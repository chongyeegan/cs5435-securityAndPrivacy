{
 "cells": [
  {
   "cell_type": "code",
   "execution_count": 6,
   "metadata": {
    "collapsed": false
   },
   "outputs": [
    {
     "name": "stdout",
     "output_type": "stream",
     "text": [
      "0.97229\n"
     ]
    }
   ],
   "source": [
    "import numpy as np\n",
    "\n",
    "known = [] #array to keep track of the percentage of the grid with values already known \n",
    "\n",
    "#run the experiment 10,000 times for better accuracy\n",
    "for i in range (0,10000):\n",
    "    #initialising a random grid\n",
    "    grid = np.zeros((9,10), dtype = int)\n",
    "    \n",
    "    #initialising a challenge (the coordinates on the grid)\n",
    "    for days in range (0,30):\n",
    "        challenge = [[np.random.random_integers(low = 0, high = 8), np.random.random_integers(low = 0, high = 9)],\n",
    "                     [np.random.random_integers(low = 0, high = 8), np.random.random_integers(low = 0, high = 9)],\n",
    "                     [np.random.random_integers(low = 0, high = 8), np.random.random_integers(low = 0, high = 9)],\n",
    "                     [np.random.random_integers(low = 0, high = 8), np.random.random_integers(low = 0, high = 9)],\n",
    "                     [np.random.random_integers(low = 0, high = 8), np.random.random_integers(low = 0, high = 9)]]\n",
    "        \n",
    "        for row in challenge:\n",
    "            if (grid[row[0]][row[1]] == 0): #assign a passcode to the grid position defined by challenge\n",
    "                grid[row[0]][row[1]] = np.random.random_integers(36) \n",
    "            else: #leave the passcode at the grid position as it if it was already known beforehand\n",
    "                grid[row[0]][row[1]] = grid[row[0]][row[1]] \n",
    "\n",
    "    known.append(float(np.count_nonzero(grid))/90*100) \n",
    "\n",
    "#calculating percentage of knowing >= 75% of the grid\n",
    "counter = 0\n",
    "for row in known:\n",
    "    if (row >=75.0):\n",
    "        counter +=1\n",
    "        \n",
    "probability = float(counter)/10000\n",
    "\n",
    "print probability\n",
    "   "
   ]
  },
  {
   "cell_type": "code",
   "execution_count": null,
   "metadata": {
    "collapsed": false
   },
   "outputs": [],
   "source": []
  },
  {
   "cell_type": "code",
   "execution_count": null,
   "metadata": {
    "collapsed": true
   },
   "outputs": [],
   "source": []
  },
  {
   "cell_type": "code",
   "execution_count": null,
   "metadata": {
    "collapsed": true
   },
   "outputs": [],
   "source": []
  },
  {
   "cell_type": "code",
   "execution_count": null,
   "metadata": {
    "collapsed": true
   },
   "outputs": [],
   "source": []
  }
 ],
 "metadata": {
  "kernelspec": {
   "display_name": "Python 2",
   "language": "python",
   "name": "python2"
  },
  "language_info": {
   "codemirror_mode": {
    "name": "ipython",
    "version": 2
   },
   "file_extension": ".py",
   "mimetype": "text/x-python",
   "name": "python",
   "nbconvert_exporter": "python",
   "pygments_lexer": "ipython2",
   "version": "2.7.10"
  }
 },
 "nbformat": 4,
 "nbformat_minor": 0
}
