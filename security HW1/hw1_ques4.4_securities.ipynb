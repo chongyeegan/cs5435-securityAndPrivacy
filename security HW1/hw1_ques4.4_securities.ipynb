{
 "cells": [
  {
   "cell_type": "code",
   "execution_count": 4,
   "metadata": {
    "collapsed": false
   },
   "outputs": [
    {
     "name": "stdout",
     "output_type": "stream",
     "text": [
      "['8f96d287b6b77ed0effdeaa719998894dcc777accb1dbde741b58d14e56957d6', 'SBV120', 'SINKERIA INC.']\n",
      "['daf7123cf1a0ea71c62e174a6290c23d9cb768fae74bb006340ecdfb7d90becb', 'SBV130', 'OPO TRANSIT INC.']\n",
      "['5c2ecc995d856ead993ccdeec1a5163c0bd0d0c1c73929ffef65021b0a5dae0a', 'SBV132', 'OPO TRANSIT INC.']\n",
      "['c89b9b1a6cffd1972ab94ef5dc0e2b3371d98c56ae2c45524e81a2a19fee9be0', 'SBV145', 'DHARMA MGT. CORP.']\n",
      "['ebd0f398d465cc86447c014e9ad4e2060ae4b82314ea84e3787a15d7c2b5ab17', 'SBV169', 'SBV TAXI CORP']\n",
      "['4cd7335fa467de24b767c53e3cfc1789c23e2c36952e66b386fb2ab1b8385066', 'SBV181', 'JAC SBV CORP']\n",
      "['57f86a9736b1d3ffcfdd15b7a94318ec2ddcab0c5f227a2f7b06cc188feb1287', 'SBV192', 'OMFG TRANSIT LLC']\n",
      "['1de578ecf0fd26864f9fcb4e728bcaba839e47d42bbbaaa7b7c62de854110153', 'SBV265', 'FOREGO TAXI CORP']\n",
      "['99329a502dd9178b75f3eff01a52555ed1ea9fdbb1a573e47a4adb05f719047a', 'SBV376', '3511 SYSTEMS INC']\n",
      "['618ecd0a76d5658991e14bc6ef0bbced6ade085b152a32853786dd68156de906', 'SBV379', '3511 SYSTEMS INC.']\n"
     ]
    }
   ],
   "source": [
    "import hashlib\n",
    "import pandas as pd\n",
    "\n",
    "# Import the csv file\n",
    "filePath = \"/Users/chongyeegan/Documents/Securities/Current_Medallions.csv\"\n",
    "df = pd.read_csv(filePath)\n",
    "medallion = []\n",
    "name = []\n",
    "\n",
    "for index, row in df.iterrows():\n",
    "\n",
    "    bytes = str.encode(row['License Number'])\n",
    "    type(bytes) \n",
    "\n",
    "    if hashlib.sha256(bytes).hexdigest() == \"618ecd0a76d5658991e14bc6ef0bbced6ade085b152a32853786dd68156de906\": \n",
    "        medallion.append([\"618ecd0a76d5658991e14bc6ef0bbced6ade085b152a32853786dd68156de906\", row['License Number'], row['Name of Licensee']] )\n",
    "    if hashlib.sha256(bytes).hexdigest() == \"99329a502dd9178b75f3eff01a52555ed1ea9fdbb1a573e47a4adb05f719047a\":\n",
    "        medallion.append([\"99329a502dd9178b75f3eff01a52555ed1ea9fdbb1a573e47a4adb05f719047a\", row['License Number'], row['Name of Licensee']] )\n",
    "\n",
    "    if hashlib.sha256(bytes).hexdigest() == \"ebd0f398d465cc86447c014e9ad4e2060ae4b82314ea84e3787a15d7c2b5ab17\":\n",
    "        medallion.append([\"ebd0f398d465cc86447c014e9ad4e2060ae4b82314ea84e3787a15d7c2b5ab17\", row['License Number'], row['Name of Licensee']])\n",
    "\n",
    "    if hashlib.sha256(bytes).hexdigest() == \"c89b9b1a6cffd1972ab94ef5dc0e2b3371d98c56ae2c45524e81a2a19fee9be0\":\n",
    "        medallion.append([\"c89b9b1a6cffd1972ab94ef5dc0e2b3371d98c56ae2c45524e81a2a19fee9be0\", row['License Number'], row['Name of Licensee']])\n",
    " \n",
    "    if hashlib.sha256(bytes).hexdigest() == \"1de578ecf0fd26864f9fcb4e728bcaba839e47d42bbbaaa7b7c62de854110153\":\n",
    "        medallion.append([\"1de578ecf0fd26864f9fcb4e728bcaba839e47d42bbbaaa7b7c62de854110153\", row['License Number'], row['Name of Licensee']])\n",
    "    if hashlib.sha256(bytes).hexdigest() == \"4cd7335fa467de24b767c53e3cfc1789c23e2c36952e66b386fb2ab1b8385066\":\n",
    "        medallion.append([\"4cd7335fa467de24b767c53e3cfc1789c23e2c36952e66b386fb2ab1b8385066\", row['License Number'], row['Name of Licensee']])\n",
    "    if hashlib.sha256(bytes).hexdigest() == \"8f96d287b6b77ed0effdeaa719998894dcc777accb1dbde741b58d14e56957d6\":\n",
    "        medallion.append([\"8f96d287b6b77ed0effdeaa719998894dcc777accb1dbde741b58d14e56957d6\", row['License Number'], row['Name of Licensee']])\n",
    "    if hashlib.sha256(bytes).hexdigest() == \"daf7123cf1a0ea71c62e174a6290c23d9cb768fae74bb006340ecdfb7d90becb\":\n",
    "        medallion.append([\"daf7123cf1a0ea71c62e174a6290c23d9cb768fae74bb006340ecdfb7d90becb\", row['License Number'], row['Name of Licensee']])\n",
    "    if hashlib.sha256(bytes).hexdigest() == \"57f86a9736b1d3ffcfdd15b7a94318ec2ddcab0c5f227a2f7b06cc188feb1287\":\n",
    "        medallion.append([\"57f86a9736b1d3ffcfdd15b7a94318ec2ddcab0c5f227a2f7b06cc188feb1287\", row['License Number'], row['Name of Licensee']])\n",
    "    if hashlib.sha256(bytes).hexdigest() == \"5c2ecc995d856ead993ccdeec1a5163c0bd0d0c1c73929ffef65021b0a5dae0a\":\n",
    "        medallion.append([\"5c2ecc995d856ead993ccdeec1a5163c0bd0d0c1c73929ffef65021b0a5dae0a\", row['License Number'], row['Name of Licensee']])\n",
    "\n",
    "for row in medallion:\n",
    "    print row\n"
   ]
  },
  {
   "cell_type": "code",
   "execution_count": 3,
   "metadata": {
    "collapsed": false
   },
   "outputs": [
    {
     "name": "stdout",
     "output_type": "stream",
     "text": [
      "['8f96d287b6b77ed0effdeaa719998894dcc777accb1dbde741b58d14e56957d6', 'SBV120', 'SINKERIA INC.']\n",
      "['daf7123cf1a0ea71c62e174a6290c23d9cb768fae74bb006340ecdfb7d90becb', 'SBV130', 'OPO TRANSIT INC.']\n",
      "['5c2ecc995d856ead993ccdeec1a5163c0bd0d0c1c73929ffef65021b0a5dae0a', 'SBV132', 'OPO TRANSIT INC.']\n",
      "['c89b9b1a6cffd1972ab94ef5dc0e2b3371d98c56ae2c45524e81a2a19fee9be0', 'SBV145', 'DHARMA MGT. CORP.']\n",
      "['ebd0f398d465cc86447c014e9ad4e2060ae4b82314ea84e3787a15d7c2b5ab17', 'SBV169', 'SBV TAXI CORP']\n",
      "['4cd7335fa467de24b767c53e3cfc1789c23e2c36952e66b386fb2ab1b8385066', 'SBV181', 'JAC SBV CORP']\n",
      "['57f86a9736b1d3ffcfdd15b7a94318ec2ddcab0c5f227a2f7b06cc188feb1287', 'SBV192', 'OMFG TRANSIT LLC']\n",
      "['1de578ecf0fd26864f9fcb4e728bcaba839e47d42bbbaaa7b7c62de854110153', 'SBV265', 'FOREGO TAXI CORP']\n",
      "['99329a502dd9178b75f3eff01a52555ed1ea9fdbb1a573e47a4adb05f719047a', 'SBV376', '3511 SYSTEMS INC']\n",
      "['618ecd0a76d5658991e14bc6ef0bbced6ade085b152a32853786dd68156de906', 'SBV379', '3511 SYSTEMS INC.']\n"
     ]
    }
   ],
   "source": []
  },
  {
   "cell_type": "code",
   "execution_count": null,
   "metadata": {
    "collapsed": true
   },
   "outputs": [],
   "source": [
    "\n"
   ]
  },
  {
   "cell_type": "code",
   "execution_count": null,
   "metadata": {
    "collapsed": true
   },
   "outputs": [],
   "source": []
  }
 ],
 "metadata": {
  "kernelspec": {
   "display_name": "Python 2",
   "language": "python",
   "name": "python2"
  },
  "language_info": {
   "codemirror_mode": {
    "name": "ipython",
    "version": 2
   },
   "file_extension": ".py",
   "mimetype": "text/x-python",
   "name": "python",
   "nbconvert_exporter": "python",
   "pygments_lexer": "ipython2",
   "version": "2.7.10"
  }
 },
 "nbformat": 4,
 "nbformat_minor": 0
}
